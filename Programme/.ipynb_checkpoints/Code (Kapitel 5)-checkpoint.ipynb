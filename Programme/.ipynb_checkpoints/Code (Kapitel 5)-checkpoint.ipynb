{
 "cells": [
  {
   "cell_type": "code",
   "execution_count": 1,
   "metadata": {},
   "outputs": [],
   "source": [
    "from numpy import genfromtxt\n",
    "from _cmeans import cmeans\n",
    "import re\n",
    "import numpy as np\n",
    "from matplotlib import pyplot as plt\n",
    "from matplotlib.pyplot import figure\n",
    "import csv\n",
    "from mpl_toolkits.mplot3d import Axes3D\n",
    "from mpl_toolkits.mplot3d.art3d import Poly3DCollection\n",
    "from scipy.spatial import Delaunay\n",
    "import itertools\n",
    "import imageio\n",
    "import PIL"
   ]
  },
  {
   "cell_type": "code",
   "execution_count": null,
   "metadata": {},
   "outputs": [],
   "source": [
    "def isfloat(value):\n",
    "  try:\n",
    "    float(value)\n",
    "    return True\n",
    "  except ValueError:\n",
    "    return False"
   ]
  },
  {
   "cell_type": "code",
   "execution_count": null,
   "metadata": {},
   "outputs": [],
   "source": [
    "def isint(value):\n",
    "  try:\n",
    "    int(value)\n",
    "    return True\n",
    "  except ValueError:\n",
    "    return False"
   ]
  },
  {
   "cell_type": "code",
   "execution_count": null,
   "metadata": {},
   "outputs": [],
   "source": [
    "#https://www.kaggle.com/reubencpereira/spatial-data-repo\n",
    "\n",
    "text_file = open(\"kivaData_augmented.txt\", \"r\", encoding=\"utf8\")\n",
    "lines = text_file.read().split('\\n')\n",
    "text_file.close()\n",
    "kivaList = []\n",
    "for l in  csv.reader(lines, quotechar='\"', delimiter=',', quoting=csv.QUOTE_ALL, skipinitialspace=True):\n",
    "    if(len(l)>2):\n",
    "        #Filter für nicht vorhandene Werte!\n",
    "        if(#isfloat(l[2]) \n",
    "           #& isfloat(l[3])\n",
    "             isfloat(l[26]) #Niederschlag\n",
    "           & isint(l[29]) #Landnutzungsklassifikator\n",
    "           & isint(l[31]) #Temperatur\n",
    "          # & isint(l[30]) #Höhenwerte\n",
    "          # & isint(l[27]) #Reisezeit bis zur nächsten Großstadt in Stunden\n",
    "          # & isint(l[28]) #Durchschnittliche nächtliche Beleuchtungszeit (Reflektionsgrade 1-63)\n",
    "          # & isfloat(l[25])#Populationsdichte (Bewohner pro Quadratkilometer)\n",
    "                            ): \n",
    "            kivaList.append(l)\n",
    "        elif(l[0]==\"region\"):\n",
    "            kivaList.append(l)"
   ]
  },
  {
   "cell_type": "code",
   "execution_count": null,
   "metadata": {},
   "outputs": [],
   "source": [
    "#In numpy-Array umwandeln und die Legende entfernen\n",
    "kivaArray = np.empty([len(arr)-1,len(arr[0])],dtype=object)\n",
    "for l in range(1,len(kivaList)):\n",
    "        kivaArray [l-1] = kivaList [l]"
   ]
  },
  {
   "cell_type": "code",
   "execution_count": null,
   "metadata": {},
   "outputs": [],
   "source": [
    "#Index Legende:\n",
    "for i in range(0,43):\n",
    "    print(\"Index \"+str(i)+\": \"+str(kivaList[0][i]))"
   ]
  },
  {
   "cell_type": "code",
   "execution_count": null,
   "metadata": {},
   "outputs": [],
   "source": [
    "kivaArray[:,29] #Daten eines Attributs"
   ]
  },
  {
   "cell_type": "code",
   "execution_count": null,
   "metadata": {},
   "outputs": [],
   "source": [
    "###########################################################################################\n",
    "###########################################################################################\n",
    "###########################################################################################\n",
    "#Anderer Datensatz mit mehr Punkten, aber weniger Dimensionen\n",
    "#http://download.geonames.org/export/zip/\n",
    "###########################################################################################\n",
    "###########################################################################################\n",
    "###########################################################################################\n",
    "text_file = open(\"allCountries.txt\", \"r\", encoding=\"utf8\")\n",
    "ac_lines = text_file.read().split('\\n')\n",
    "text_file.close()\n",
    "geonames = np.empty([np.size(ac_lines)-1,np.size(ac_lines[0].split('\\t'))],dtype=object)\n",
    "for i in range(0,np.size(ac_lines)-1):\n",
    "    geonames[i] = ac_lines[i].split('\\t')"
   ]
  },
  {
   "cell_type": "code",
   "execution_count": null,
   "metadata": {},
   "outputs": [],
   "source": [
    "geonames.shape"
   ]
  },
  {
   "cell_type": "code",
   "execution_count": null,
   "metadata": {},
   "outputs": [],
   "source": [
    "weltplot = plt.plot(geonames[0:,10].astype(float), geonames[0:,9].astype(float), 'g.')\n",
    "plt.setp(weltplot, markersize=0.2)\n",
    "plt.show()"
   ]
  },
  {
   "cell_type": "code",
   "execution_count": null,
   "metadata": {},
   "outputs": [],
   "source": [
    "#Ausschnitt betrachten:\n",
    "breitengrad = geonames[0:,9].astype(float)\n",
    "laengengrad = geonames[0:,10].astype(float)\n",
    "condition = [(breitengrad>30) & (breitengrad <70) & (laengengrad>-10) & (laengengrad <50)]\n",
    "cond_a = np.extract(condition, breitengrad)\n",
    "cond_b = np.extract(condition, laengengrad)\n",
    "euplot = plt.plot(cond_b,cond_a, 'g.')\n",
    "plt.setp(euplot, markersize=0.5)\n",
    "plt.show()\n",
    "###########################################################################################\n",
    "###########################################################################################\n",
    "###########################################################################################"
   ]
  },
  {
   "cell_type": "code",
   "execution_count": null,
   "metadata": {},
   "outputs": [],
   "source": [
    "#Fuzzy C-Means\n",
    "niederschlag = kivaArray[:,26][0::1].astype(float) #Entsprechende Spalten auswählen, numerisieren und mit slicing neutralisieren\n",
    "landnutzung = kivaArray[:,29][0::1].astype(float)\n",
    "temperatur = kivaArray[:,31][0::1].astype(float)\n",
    "\n",
    "fcm_kivaArray = np.vstack((temperatur,landnutzung,niederschlag)) #In Datenmatrix umwandeln für den Algorithmus"
   ]
  },
  {
   "cell_type": "code",
   "execution_count": null,
   "metadata": {},
   "outputs": [],
   "source": [
    "[cntr,u,_,_,_,_,_] = cmeans(fcm_kivaArray, c=30, m=2, error=0.001, maxiter=100)"
   ]
  },
  {
   "cell_type": "code",
   "execution_count": null,
   "metadata": {},
   "outputs": [],
   "source": [
    "fig = plt.figure(figsize=(12,8)) \n",
    "ax = Axes3D(fig)\n",
    "\n",
    "sequence_containing_y_vals = kivaArray[:,26][0::20].astype(float) \n",
    "sequence_containing_z_vals = kivaArray[:,29][0::20].astype(int) \n",
    "sequence_containing_x_vals = kivaArray[:,31][0::20].astype(int)\n",
    "\n",
    "ax.scatter(cntr.T[0], cntr.T[2], cntr.T[1], alpha = 1, s=100,c='r', marker='+',zorder=0)\n",
    "ax.scatter(sequence_containing_x_vals, sequence_containing_y_vals, sequence_containing_z_vals,s=0.1,c='b',marker='.',zorder=-1)\n",
    "\n",
    "ax.set_ylabel('Niederschlag')\n",
    "ax.set_zlabel('Landnutzung')\n",
    "ax.set_xlabel('Temperatur')\n",
    "\n",
    "#ax.set_xlim(0,35)\n",
    "#ax.set_ylim(20,40)\n",
    "ax.set_zlim(0,150)\n",
    "\n",
    "plt.show()\n",
    "\n",
    "#Scheinbar zeigt FCM in diesem sehr unscharfen Fall erst bei hoher Clusteranzahl korrekte Gruppierungstendenzen an."
   ]
  },
  {
   "cell_type": "code",
   "execution_count": null,
   "metadata": {},
   "outputs": [],
   "source": [
    "#Local Outlier Factor? zurückgestellt"
   ]
  },
  {
   "cell_type": "code",
   "execution_count": null,
   "metadata": {},
   "outputs": [],
   "source": [
    "#NSFCDT"
   ]
  },
  {
   "cell_type": "code",
   "execution_count": null,
   "metadata": {},
   "outputs": [],
   "source": [
    "#points = np.array([[0, 0,1], [0, 1,1], [1, 0,1], [0, 0,0],[1, 1,1],[1, 1,0]])\n",
    "#points = np.array([[0, 0], [0, 1], [1,1],[10,1],[1,4]])\n",
    "#tri = Delaunay(points)\n",
    "#points[tri.simplices]"
   ]
  },
  {
   "cell_type": "code",
   "execution_count": null,
   "metadata": {},
   "outputs": [],
   "source": [
    "#def getVerts(pts):\n",
    "#    verts = []\n",
    "#    for polygon in points[tri.simplices]:\n",
    "#        l = []\n",
    "#        for point in polygon:\n",
    "#            l.append(tuple(point))\n",
    "#        verts.append(l)\n",
    "#    return verts"
   ]
  },
  {
   "cell_type": "code",
   "execution_count": null,
   "metadata": {},
   "outputs": [],
   "source": [
    "#[getVerts(points[tri.simplices])[0]]"
   ]
  },
  {
   "cell_type": "code",
   "execution_count": null,
   "metadata": {},
   "outputs": [],
   "source": [
    "#fig = plt.figure()\n",
    "#ax = Axes3D(fig)\n",
    "#verts = [getVerts(points[tri.simplices])[0]]\n",
    "#ax.add_collection3d(Poly3DCollection(verts), zs='z')\n",
    "#plt.show()"
   ]
  },
  {
   "cell_type": "code",
   "execution_count": 2,
   "metadata": {},
   "outputs": [],
   "source": [
    "class Triangle:\n",
    "    def __init__(self):\n",
    "        self.id = -1\n",
    "        self.points = []\n",
    "        self.visited = False\n",
    "        self.neighbors = []"
   ]
  },
  {
   "cell_type": "code",
   "execution_count": 3,
   "metadata": {},
   "outputs": [],
   "source": [
    "def convertTriangles(points,tri):\n",
    "    convertedTriangles = []\n",
    "    for i in range(0,len(tri.simplices)):\n",
    "        newT = Triangle()\n",
    "        newT.id = i\n",
    "        newT.points = points[tri.simplices[i]] #Achtung: ein 2-Simplex ist ein Dreieck.\n",
    "        newT.neighbors = finde_nachbardreiecke(i,tri)\n",
    "        convertedTriangles.append(newT)\n",
    "    return convertedTriangles"
   ]
  },
  {
   "cell_type": "code",
   "execution_count": null,
   "metadata": {},
   "outputs": [],
   "source": [
    "#plt.triplot(points[:,0], points[:,1], tri.simplices.copy())\n",
    "#plt.plot(points[:,0], points[:,1], 'o')\n",
    "#plt.show()"
   ]
  },
  {
   "cell_type": "code",
   "execution_count": 4,
   "metadata": {},
   "outputs": [],
   "source": [
    "#Alle Nachbarn eines Dreiecks finden: (edit: Ist wohl zu langsam, besser direkt die neighbors-Funktion nutzen)\n",
    "def finde_nachbardreiecke2(dindex,tri): #dindex ist der Dreiecksindex\n",
    "    nachbarn = []\n",
    "    for comb in itertools.combinations(tri.simplices[dindex], 2): #für alle Kanten\n",
    "        for sid in range(0,len(tri.simplices)): #für alle Simplexindizes\n",
    "            if((len(set(comb)-set(tri.simplices[sid])) == 0) \n",
    "                  & (not np.array_equal(tri.simplices[dindex],tri.simplices[sid]))): #Sind an dem Dreieck tri.simplices[sid] alle Kanten aus 'comb' beteiligt?\n",
    "                nachbarn.append(sid)#Dann ist tri.simplices[sid] ein Nachbardreieck von tri.simplices[dindex]\n",
    "    return nachbarn"
   ]
  },
  {
   "cell_type": "code",
   "execution_count": 5,
   "metadata": {},
   "outputs": [],
   "source": [
    "#Alle Nachbarn eines Dreiecks finden:\n",
    "def finde_nachbardreiecke(dindex,tri): \n",
    "    nachbarn = tri.neighbors[dindex][tri.neighbors[dindex]>0]\n",
    "    return nachbarn"
   ]
  },
  {
   "cell_type": "code",
   "execution_count": null,
   "metadata": {},
   "outputs": [],
   "source": [
    "#finde_nachbardreiecke(234,triangulation)"
   ]
  },
  {
   "cell_type": "code",
   "execution_count": 15,
   "metadata": {},
   "outputs": [],
   "source": [
    "def satisfiable(t,lower,upper): #Berechne Fläche des Dreiecks und überprüfe, ob es bzgl. der Grenzwerte die richtige Größe hat\n",
    "    a = np.linalg.norm(t.points[0]-t.points[1])\n",
    "    b = np.linalg.norm(t.points[0]-t.points[2])\n",
    "    c = np.linalg.norm(t.points[1]-t.points[2])\n",
    "    s = (a + b + c) / 2\n",
    "    area = (s*(s-a)*(s-b)*(s-c)) ** 0.5\n",
    "    if((area>=lower) & (area<=upper) \n",
    "       & (a<3*b) & (a<3*c) \n",
    "       & (b<3*a) & (b<3*c)\n",
    "       & (c<3*a) & (c<3*b)):\n",
    "        return True\n",
    "    else:\n",
    "        return False"
   ]
  },
  {
   "cell_type": "code",
   "execution_count": 7,
   "metadata": {},
   "outputs": [],
   "source": [
    "def NSFCDT(points, lower_limit, upper_limit):\n",
    "    tri = Delaunay(points)\n",
    "    #print(len(tri.simplices))\n",
    "    DT = convertTriangles(points,tri)\n",
    "    clusterSet = set()\n",
    "    tmpSet = set()\n",
    "    stack = []\n",
    "    for dt in DT:\n",
    "        if(dt.visited == False):\n",
    "            newSet = set() \n",
    "            stack.append(dt)\n",
    "            while(len(stack) > 0):\n",
    "                t = stack.pop()\n",
    "                if(satisfiable(t,lower_limit, upper_limit) & (t.visited == False)):\n",
    "                    #print(\"satisfied\")\n",
    "                    t.visited = True\n",
    "                    newSet = newSet.union({t}) \n",
    "                    tmpSet = t.neighbors\n",
    "                    for el in tmpSet: #Es wird über die Indizes der Nachbardreiecke von t iteriert\n",
    "                        if(DT[el].visited == False): #Der DT-Index entspricht der ID des jeweiligen Dreiecks\n",
    "                            stack.append(DT[el])\n",
    "            clusterSet = clusterSet.union(newSet)\n",
    "    return tri,clusterSet"
   ]
  },
  {
   "cell_type": "code",
   "execution_count": 8,
   "metadata": {},
   "outputs": [],
   "source": [
    "def findColorPoints(I,limR,limG,limB): #Finde alle Punkte in angegebenem Farbraum \n",
    "    found = []\n",
    "    for el in I:\n",
    "        if ((el[2] in limR)\n",
    "           & (el[3] in limG)\n",
    "           & (el[4] in limB)):\n",
    "            found.append([el[0],el[1]])\n",
    "    return np.array(found)"
   ]
  },
  {
   "cell_type": "code",
   "execution_count": 9,
   "metadata": {},
   "outputs": [],
   "source": [
    "def reshapeImg(image):\n",
    "    newI = []\n",
    "    for a in range(0,image.shape[0]):\n",
    "        for b in range(0,image.shape[1]):\n",
    "            newI.append(np.concatenate([[a,b],image[a,b]]))\n",
    "    return np.array(newI)"
   ]
  },
  {
   "cell_type": "code",
   "execution_count": 10,
   "metadata": {},
   "outputs": [],
   "source": [
    "I0 = np.asarray(PIL.Image.open('testcluster.jpg'))\n",
    "I1 = reshapeImg(I0)"
   ]
  },
  {
   "cell_type": "code",
   "execution_count": null,
   "metadata": {},
   "outputs": [],
   "source": [
    "I0[63,280]"
   ]
  },
  {
   "cell_type": "code",
   "execution_count": 11,
   "metadata": {},
   "outputs": [
    {
     "name": "stdout",
     "output_type": "stream",
     "text": [
      "(8821, 2)\n"
     ]
    }
   ],
   "source": [
    "foundInRange = findColorPoints(I1,range(0,100),range(0,100),range(0,100))\n",
    "#foundInRange = foundInRange[::5]\n",
    "print(foundInRange.shape)"
   ]
  },
  {
   "cell_type": "code",
   "execution_count": 25,
   "metadata": {},
   "outputs": [
    {
     "name": "stdout",
     "output_type": "stream",
     "text": [
      "122\n",
      "17607\n"
     ]
    }
   ],
   "source": [
    "[triangulation,clusters] = NSFCDT(foundInRange,10,300)\n",
    "print(len(clusters))\n",
    "print(len(triangulation.simplices))"
   ]
  },
  {
   "cell_type": "code",
   "execution_count": null,
   "metadata": {},
   "outputs": [],
   "source": [
    "triangulation.simplices.shape"
   ]
  },
  {
   "cell_type": "code",
   "execution_count": 18,
   "metadata": {},
   "outputs": [],
   "source": [
    "def drawTriangle(t,axe):\n",
    "    if(axe == 'x'):\n",
    "        return np.append(t.points.T[0],t.points.T[0][0])\n",
    "    else:\n",
    "        return np.append(t.points.T[1],t.points.T[1][0])"
   ]
  },
  {
   "cell_type": "code",
   "execution_count": 26,
   "metadata": {},
   "outputs": [
    {
     "data": {
      "image/png": "[encoded data removed]",
      "text/plain": [
       "<Figure size 1440x720 with 1 Axes>"
      ]
     },
     "metadata": {
      "needs_background": "light"
     },
     "output_type": "display_data"
    }
   ],
   "source": [
    "fig = plt.subplots(figsize=(20, 10))\n",
    "colormap =  ['y-','g-','b-','r-'] #Farben für Dreieckskanten\n",
    "colormap2 =  ['yo','go','bo','ro'] # Farben für Dreiecksknoten\n",
    "\n",
    "cluster_list = list(clusters)\n",
    "for t in cluster_list:\n",
    "    plt.plot(drawTriangle(t,'y'),drawTriangle(t,'x'), 'r-')\n",
    "#plt.plot(points.T[1],points.T[0],'r.')\n",
    "#plt.triplot(points.T[1],points.T[0],colormap[3] ,simplices,lw=1,zorder=10)\n",
    "\n",
    "img = imageio.imread(\"testcluster.jpg\") #Hintergrundbild (z.B. zu clusterndes Satellitenbild)\n",
    "plt.imshow(img,zorder=0,extent=[0,I0.shape[1],I0.shape[0],0])\n",
    "plt.show()"
   ]
  },
  {
   "cell_type": "code",
   "execution_count": null,
   "metadata": {},
   "outputs": [],
   "source": [
    "list(clusters)[0].points.T[0][0]\n"
   ]
  },
  {
   "cell_type": "code",
   "execution_count": null,
   "metadata": {},
   "outputs": [],
   "source": [
    "list(clusters)[0].points.T[0]"
   ]
  },
  {
   "cell_type": "code",
   "execution_count": null,
   "metadata": {},
   "outputs": [],
   "source": [
    "np.append(list(clusters)[0].points.T[0],list(clusters)[0].points.T[0][0])\n",
    "np.append(list(clusters)[1].points.T[0],list(clusters)[1].points.T[0][0])"
   ]
  },
  {
   "cell_type": "code",
   "execution_count": null,
   "metadata": {},
   "outputs": [],
   "source": [
    "plt.plot([0,0,1,0], [0,1,0,0])\n",
    "plt.plot([1,1,2,1],[1,2,1,1])\n",
    "plt.plot([1.5,1.5,2.5,1.5],[1.5,2.5,1.5,1.5])\n",
    "plt.show()"
   ]
  },
  {
   "cell_type": "code",
   "execution_count": null,
   "metadata": {},
   "outputs": [],
   "source": [
    "#CFGWC"
   ]
  },
  {
   "cell_type": "code",
   "execution_count": null,
   "metadata": {},
   "outputs": [],
   "source": [
    "#cOpt mit Fuzzy Hypervolume"
   ]
  },
  {
   "cell_type": "code",
   "execution_count": null,
   "metadata": {},
   "outputs": [],
   "source": [
    "#VAT?"
   ]
  },
  {
   "cell_type": "code",
   "execution_count": null,
   "metadata": {},
   "outputs": [],
   "source": [
    "#Rand-Index"
   ]
  },
  {
   "cell_type": "code",
   "execution_count": null,
   "metadata": {},
   "outputs": [],
   "source": [
    "#Partitionierungsstabilität"
   ]
  }
 ],
 "metadata": {
  "celltoolbar": "Raw Cell Format",
  "kernelspec": {
   "display_name": "Python 3",
   "language": "python",
   "name": "python3"
  },
  "language_info": {
   "codemirror_mode": {
    "name": "ipython",
    "version": 3
   },
   "file_extension": ".py",
   "mimetype": "text/x-python",
   "name": "python",
   "nbconvert_exporter": "python",
   "pygments_lexer": "ipython3",
   "version": "3.6.6"
  }
 },
 "nbformat": 4,
 "nbformat_minor": 2
}
